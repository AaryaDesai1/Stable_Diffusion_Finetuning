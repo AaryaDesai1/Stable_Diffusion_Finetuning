{
  "nbformat": 4,
  "nbformat_minor": 0,
  "metadata": {
    "colab": {
      "provenance": [],
      "include_colab_link": true
    },
    "kernelspec": {
      "name": "python3",
      "display_name": "Python 3"
    },
    "language_info": {
      "name": "python"
    }
  },
  "cells": [
    {
      "cell_type": "markdown",
      "metadata": {
        "id": "view-in-github",
        "colab_type": "text"
      },
      "source": [
        "<a href=\"https://colab.research.google.com/github/AaryaDesai1/Stable_Diffusion_Finetuning/blob/main/LoadDreamBoothModel.ipynb\" target=\"_parent\"><img src=\"https://colab.research.google.com/assets/colab-badge.svg\" alt=\"Open In Colab\"/></a>"
      ]
    },
    {
      "cell_type": "code",
      "execution_count": null,
      "metadata": {
        "id": "BtTZwJyaqzk3"
      },
      "outputs": [],
      "source": [
        "from huggingface_hub import login\n",
        "\n",
        "# Login to Hugging Face (you will be prompted to input your token)\n",
        "login(token=\"\")#removed for pricaxy"
      ]
    },
    {
      "cell_type": "code",
      "source": [
        "from diffusers import StableDiffusionPipeline, DPMSolverMultistepScheduler\n",
        "import torch\n",
        "from huggingface_hub import hf_hub_download\n",
        "\n",
        "repo_id = \"khsquarepants/general-fantasy\"\n",
        "hf_token = \"\" #removed for privacy\n",
        "pipe = StableDiffusionPipeline.from_pretrained(\n",
        "    repo_id,\n",
        "    scheduler=DPMSolverMultistepScheduler.from_pretrained(repo_id, subfolder=\"scheduler\"),\n",
        "    torch_dtype=torch.float16,\n",
        "    use_auth_token=hf_token  # Use your token for private models\n",
        ").to(\"cuda\")"
      ],
      "metadata": {
        "id": "3-8sH9C1q6w_"
      },
      "execution_count": null,
      "outputs": []
    },
    {
      "cell_type": "code",
      "source": [
        "prompt = \"A [fantasium] middle-aged high elf with brown hair sits in a large, worn chair by a crackling fireplace, dressed in fur-trimmed winter adventure leathers.  Her cluttered lodge, filled with scattered books, and paper. The cinematic fantasy scene shows a blizzard outside trapping the town. The cinematic fantasy art, captures the contrast between the chaotic interior and the icy peril.\" #@param {type:\"string\"}\n",
        "\n",
        "num_samples = 5 #@param {type:\"number\"}\n",
        "num_rows = 3 #@param {type:\"number\"}\n",
        "\n",
        "all_images2 = []\n",
        "for _ in range(num_rows):\n",
        "    images = pipe(prompt, num_images_per_prompt=num_samples, num_inference_steps=25, guidance_scale=9).images\n",
        "    all_images2.extend(images)"
      ],
      "metadata": {
        "id": "JwTanC4yq9zB"
      },
      "execution_count": null,
      "outputs": []
    },
    {
      "cell_type": "code",
      "source": [
        "import matplotlib.pyplot as plt\n",
        "import numpy as np\n",
        "\n",
        "def image_grid(imgs, num_rows, num_samples):\n",
        "    \"\"\"Arrange images in a grid.\"\"\"\n",
        "    fig, axs = plt.subplots(num_rows, num_samples, figsize=(num_samples * 3, num_rows * 3))\n",
        "    axs = axs.flatten()\n",
        "\n",
        "    for i, img in enumerate(imgs):\n",
        "        axs[i].imshow(img)\n",
        "        axs[i].axis(\"off\")\n",
        "\n",
        "    plt.tight_layout()\n",
        "    plt.show()\n",
        "\n",
        "grid = image_grid(all_images2, num_rows, num_samples)"
      ],
      "metadata": {
        "id": "mDTJ-DpRrA7L"
      },
      "execution_count": null,
      "outputs": []
    },
    {
      "cell_type": "code",
      "source": [
        "#get one image\n",
        "#all_images[1]"
      ],
      "metadata": {
        "id": "j9y0_sYOrC4t"
      },
      "execution_count": null,
      "outputs": []
    }
  ]
}